{
 "cells": [
  {
   "cell_type": "markdown",
   "id": "f1c1bd06-6355-4605-b885-ed7fc8764a8b",
   "metadata": {},
   "source": [
    "## Assignment 2"
   ]
  },
  {
   "cell_type": "markdown",
   "id": "191e6290-d85d-40c3-adfd-ebc1749e2057",
   "metadata": {},
   "source": [
    "### -------------------------------------------------------------------------------------------------------------------------------"
   ]
  },
  {
   "cell_type": "markdown",
   "id": "2b9bdba9-32b3-4e8a-b229-1f23a4f5793b",
   "metadata": {},
   "source": [
    "### 1. .What are the two values of the Boolean data type? How do you write them?"
   ]
  },
  {
   "cell_type": "markdown",
   "id": "9109bf27-f44d-4532-8e7e-37f7412426bb",
   "metadata": {},
   "source": [
    "#### Asnwer: The two boolean data types  are True and False\n",
    "\n",
    "    - They are written as \n",
    "    - boolA =True\n",
    "    - boolB = False\n",
    "    "
   ]
  },
  {
   "cell_type": "markdown",
   "id": "408ebf1d-43e4-415c-aa2e-3840bff0f8a9",
   "metadata": {},
   "source": [
    "### -------------------------------------------------------------------------------------------------------------------------------"
   ]
  },
  {
   "cell_type": "markdown",
   "id": "8f10ef25-84de-4e0c-9679-6e2c2d83bd4c",
   "metadata": {},
   "source": [
    "### 2. What are the three different types of Boolean operators?"
   ]
  },
  {
   "cell_type": "markdown",
   "id": "ba6f67fd-8543-4fb0-936b-f2c0239b6cd1",
   "metadata": {},
   "source": [
    "#### Answer :\n",
    "#### There are mainly three types of boolean operators in python : AND,  OR and  NOT. They are used in the code as and,or and not"
   ]
  },
  {
   "cell_type": "markdown",
   "id": "3e458970-ebe7-4e0d-909d-2123e0c682ff",
   "metadata": {},
   "source": [
    "### -------------------------------------------------------------------------------------------------------------------------------"
   ]
  },
  {
   "cell_type": "markdown",
   "id": "7593a1d8-f4da-47e7-90e6-cf5af5c03c21",
   "metadata": {},
   "source": [
    "## 3. Make a list of each Boolean operator&#39;s truth tables (i.e. every possible combination of Boolean values for the operator and what it evaluate ).\n"
   ]
  },
  {
   "cell_type": "code",
   "execution_count": 18,
   "id": "0f01efef-0186-4b86-a708-e06ee93b5977",
   "metadata": {},
   "outputs": [
    {
     "name": "stdout",
     "output_type": "stream",
     "text": [
      "\n",
      "The AND operator truth table\n",
      " A  B AandB\n",
      "[0, 0, 0]\n",
      "[0, 1, 0]\n",
      "[1, 1, 1]\n",
      "\n",
      "The OR operator truth table\n",
      " A  B AorB\n",
      "[0, 0, 0]\n",
      "[0, 1, 1]\n",
      "[1, 1, 1]\n",
      "\n",
      "The NOT operator truth table\n",
      " A notA\n",
      "[0, 1]\n",
      "[1, 0]\n"
     ]
    }
   ],
   "source": [
    "andList = [[0, 0 ,0],[0,1,0],[1,1,1]]\n",
    "\n",
    "print(\"\\nThe AND operator truth table\")\n",
    "print(\" A  B AandB\")\n",
    "for i in andList:\n",
    "    print(i)\n",
    "    \n",
    "orList = [[0, 0 ,0],[0,1,1],[1,1,1]]\n",
    "\n",
    "print(\"\\nThe OR operator truth table\")\n",
    "print(\" A  B AorB\")\n",
    "for i in orList:\n",
    "    print(i)\n",
    "    \n",
    "notList = [[0, 1],[1,0]]\n",
    "\n",
    "print(\"\\nThe NOT operator truth table\")\n",
    "print(\" A notA\")\n",
    "for i in notList:\n",
    "    print(i)"
   ]
  },
  {
   "cell_type": "markdown",
   "id": "6b7af030-4ba8-4f4c-b29a-04e69b53be8f",
   "metadata": {},
   "source": [
    "### -------------------------------------------------------------------------------------------------------------------------------"
   ]
  },
  {
   "cell_type": "markdown",
   "id": "995e93e1-3b95-401a-afc6-924620dcf192",
   "metadata": {},
   "source": [
    "### 4. What are the values of the following expressions?\n",
    "        - (5 > 4) and (3 == 5) \n",
    "        - not (5 > 4)\n",
    "        - (5 > 4) or (3 == 5)\n",
    "        - not ((5 > 4) or (3 == 5))\n",
    "        - (True and True) and (True == False)\n",
    "        - (not False) or (not True)\n"
   ]
  },
  {
   "cell_type": "markdown",
   "id": "bf16bffd-e827-4366-90a9-bbcf1307c8b7",
   "metadata": {},
   "source": [
    "#### Answers:\n",
    "    - (5 > 4) and (3 == 5)  - > False\n",
    "    - not (5 > 4) -> = False\n",
    "    - (5 > 4) or (3 == 5) ->  = True\n",
    "    - not ((5 > 4) or (3 == 5)) -> not(True) - >False\n",
    "    - (True and True) and (True == False) - > (True) and (False) = False\n",
    "    - (not False) or (not True) -> True or False = True"
   ]
  },
  {
   "cell_type": "code",
   "execution_count": 27,
   "id": "1e34598a-73f0-4d71-9852-dca0c5b24cef",
   "metadata": {},
   "outputs": [
    {
     "data": {
      "text/plain": [
       "True"
      ]
     },
     "execution_count": 27,
     "metadata": {},
     "output_type": "execute_result"
    }
   ],
   "source": [
    "(5 > 4) and (3 == 5)\n"
   ]
  },
  {
   "cell_type": "code",
   "execution_count": 29,
   "id": "d081c3d1-c729-4408-969c-df1da93e9f98",
   "metadata": {},
   "outputs": [
    {
     "data": {
      "text/plain": [
       "True"
      ]
     },
     "execution_count": 29,
     "metadata": {},
     "output_type": "execute_result"
    }
   ],
   "source": [
    "not (5 > 4)\n"
   ]
  },
  {
   "cell_type": "code",
   "execution_count": 31,
   "id": "e7b55b51-4abd-4f63-ae16-fb8373e61bf7",
   "metadata": {},
   "outputs": [
    {
     "data": {
      "text/plain": [
       "True"
      ]
     },
     "execution_count": 31,
     "metadata": {},
     "output_type": "execute_result"
    }
   ],
   "source": [
    "(5 > 4) or (3 == 5)\n"
   ]
  },
  {
   "cell_type": "code",
   "execution_count": 33,
   "id": "572e5d63-3342-4efa-9f32-f520956da608",
   "metadata": {},
   "outputs": [
    {
     "data": {
      "text/plain": [
       "False"
      ]
     },
     "execution_count": 33,
     "metadata": {},
     "output_type": "execute_result"
    }
   ],
   "source": [
    "not ((5 > 4) or (3 == 5))\n"
   ]
  },
  {
   "cell_type": "code",
   "execution_count": 35,
   "id": "827c663d-275e-47de-8ab1-7298cc09b0d7",
   "metadata": {},
   "outputs": [
    {
     "data": {
      "text/plain": [
       "False"
      ]
     },
     "execution_count": 35,
     "metadata": {},
     "output_type": "execute_result"
    }
   ],
   "source": [
    "(True and True) and (True == False)\n"
   ]
  },
  {
   "cell_type": "code",
   "execution_count": 37,
   "id": "a1655018-fdc3-48e2-ba9f-a4ffeff637e3",
   "metadata": {},
   "outputs": [
    {
     "data": {
      "text/plain": [
       "True"
      ]
     },
     "execution_count": 37,
     "metadata": {},
     "output_type": "execute_result"
    }
   ],
   "source": [
    "(not False) or (not True)"
   ]
  },
  {
   "cell_type": "markdown",
   "id": "755de9c6-ccbb-45a8-a602-b1e62c84c9c4",
   "metadata": {},
   "source": [
    "### -------------------------------------------------------------------------------------------------------------------------------"
   ]
  },
  {
   "cell_type": "markdown",
   "id": "eaa71474-7bbf-4f5b-ba4a-57a70b37627d",
   "metadata": {},
   "source": [
    "### 5. What are the six comparison operators?\n",
    "\n",
    "#### Answer: Following are 6 comparision operator in Python\n",
    "\n",
    "    == -> Equal \n",
    "    != -> Not equal\n",
    "    > -> Greater than\n",
    "    < -> Lesss than\n",
    "    >= -> Graeter than or equal to\n",
    "    <= -> Less than or equal to\n"
   ]
  },
  {
   "cell_type": "markdown",
   "id": "05d6adb4-e4d2-45be-b764-a0fe76203161",
   "metadata": {},
   "source": [
    "### -------------------------------------------------------------------------------------------------------------------------------"
   ]
  },
  {
   "cell_type": "markdown",
   "id": "1bf30f88-2823-4742-bebe-c1426bd57421",
   "metadata": {},
   "source": [
    "#### 6. How do you tell the difference between the equal to and assignment operators?Describe a condition and when you would use one."
   ]
  },
  {
   "cell_type": "markdown",
   "id": "21cbe08d-2a19-4be7-9be3-85cf7d0436c0",
   "metadata": {},
   "source": [
    "#### Answer \n",
    " \n",
    "    Assignment operator denotes \"=\"\n",
    "    It is used for assigning the value to a variable.\n",
    "    example a = 10, str = \"akash\"\n",
    "\n",
    "    Equal to Operator \"==\"\n",
    "    It is a relational or comparison operator\n",
    "    It is used for comparing two values. It returns 1 if both the values are equal otherwise returns 0.\n",
    "    Constant term can be placed in the left hand side.\n",
    "    Example: 1==1 is valid and returns 1.\n",
    "    \n",
    "    \n",
    "    \n"
   ]
  },
  {
   "cell_type": "code",
   "execution_count": 54,
   "id": "dbf00fee-187a-484f-9cc7-7508c0837332",
   "metadata": {},
   "outputs": [
    {
     "name": "stdout",
     "output_type": "stream",
     "text": [
      "True\n"
     ]
    }
   ],
   "source": [
    "## Demostration for the above example \n",
    "x=10\n",
    "y=10\n",
    "if x==y:\n",
    "    print(\"True\")\n",
    "else:\n",
    "    print(\"False\")"
   ]
  },
  {
   "cell_type": "markdown",
   "id": "b6a30b31-d36f-4bf4-b2da-d9c8611812c0",
   "metadata": {},
   "source": [
    "### -------------------------------------------------------------------------------------------------------------------------------"
   ]
  },
  {
   "cell_type": "markdown",
   "id": "095adc42-99e6-46a5-9408-6c3083fd55d7",
   "metadata": {},
   "source": [
    "### 7. Identify the three blocks in this code:\n",
    "\n",
    "    spam = 0  # \n",
    "    \n",
    "    if spam == 10:\n",
    "        print(\"eggs\")  \n",
    "        \n",
    "    if spam > 5:\n",
    "        print(\"bacon\")\n",
    "    else:\n",
    "        print(\"ham\")\n",
    "        print(\"spam\")\n",
    "        print(\"spam\")\n"
   ]
  },
  {
   "cell_type": "code",
   "execution_count": 79,
   "id": "916e5d55-2863-49a6-b2f2-39e32ca7469d",
   "metadata": {},
   "outputs": [
    {
     "name": "stdout",
     "output_type": "stream",
     "text": [
      "ham\n",
      "spam\n",
      "spam\n"
     ]
    }
   ],
   "source": [
    "### Answer\n",
    "spam = 0  #first block of the code \n",
    "    \n",
    "if spam == 10:  # second block of the code \n",
    "     print(\"eggs\") \n",
    "    \n",
    "if spam > 5: # third code of the block\n",
    "    print(\"bacon\")\n",
    "else:\n",
    "    print(\"ham\")\n",
    "    print(\"spam\")\n",
    "    print(\"spam\")"
   ]
  },
  {
   "cell_type": "markdown",
   "id": "da2a9d33-237d-4fc3-a1e5-0590f09b03dd",
   "metadata": {},
   "source": [
    "### -------------------------------------------------------------------------------------------------------------------------------"
   ]
  },
  {
   "cell_type": "markdown",
   "id": "85be2af8-30f0-4bd2-ae1d-b0954fa35f73",
   "metadata": {},
   "source": [
    "### 8. Write code that prints Hello if 1 is stored in spam, prints Howdy if 2 is stored in spam, and prints Greetings! if anything else is stored in spam."
   ]
  },
  {
   "cell_type": "code",
   "execution_count": 83,
   "id": "1abe3970-7365-4061-807d-6a17fe9ed0b5",
   "metadata": {},
   "outputs": [
    {
     "name": "stdout",
     "output_type": "stream",
     "text": [
      "Enter spam value : 1\n"
     ]
    },
    {
     "name": "stdout",
     "output_type": "stream",
     "text": [
      "Hello\n"
     ]
    }
   ],
   "source": [
    "spam = int(input(\"Enter spam value :\"))\n",
    "if spam == 1 :\n",
    "    print(\"Hello\")\n",
    "elif spam == 2:\n",
    "    print(\"Howdy\")\n",
    "else:\n",
    "    print(\"Greetings!!!\")"
   ]
  },
  {
   "cell_type": "markdown",
   "id": "6aa8c707-5937-421a-9e47-71d1066ed1d5",
   "metadata": {},
   "source": [
    "### -------------------------------------------------------------------------------------------------------------------------------"
   ]
  },
  {
   "cell_type": "markdown",
   "id": "1f1dc00a-33e1-42eb-bb7f-2966f6acc0e6",
   "metadata": {},
   "source": [
    "### 9.If your programme is stuck in an endless loop, what keys you’ll press?\n",
    "\n",
    "#### Answer : Press CTRL + c to exit from a infinite loop\n"
   ]
  },
  {
   "cell_type": "markdown",
   "id": "1233ea34-ea50-4891-83f5-17fde2e9cb7b",
   "metadata": {},
   "source": [
    "### -------------------------------------------------------------------------------------------------------------------------------"
   ]
  },
  {
   "cell_type": "markdown",
   "id": "e2975f09-e282-45dc-ae19-758246f34c3e",
   "metadata": {},
   "source": [
    "### 10. How can you tell the difference between break and continue?\n",
    "\n",
    "    Break Statement : \n",
    "    Break statements exist in Python to exit or “break” a for or while conditional loop. When the loop ends, the code picks up\n",
    "    from and executes the next line immediately following the loop that was broken\n",
    "    \n",
    "    Continue Statement:\n",
    "    The continue statement is used to skip code within a loop for certain iterations of the loop. After the code is skipped,\n",
    "    the loop continues where it left off\n"
   ]
  },
  {
   "cell_type": "markdown",
   "id": "8636c4ea-ae31-4927-a249-3928c3886b0c",
   "metadata": {},
   "source": [
    "### -------------------------------------------------------------------------------------------------------------------------------"
   ]
  },
  {
   "cell_type": "markdown",
   "id": "c8253101-c3ef-4e52-919f-4dbaabfd2bb6",
   "metadata": {},
   "source": [
    "### 11. In a for loop, what is the difference between range(10), range(0, 10), and range(0, 10, 1)?"
   ]
  },
  {
   "cell_type": "code",
   "execution_count": 112,
   "id": "6b0341e0-0bed-46ce-8dbd-82f9785d5b2e",
   "metadata": {},
   "outputs": [
    {
     "name": "stdout",
     "output_type": "stream",
     "text": [
      "0\n",
      "1\n",
      "2\n",
      "3\n",
      "4\n",
      "5\n",
      "6\n",
      "7\n",
      "8\n",
      "9\n",
      "-----------------------------------\n",
      "0\n",
      "1\n",
      "2\n",
      "3\n",
      "4\n",
      "5\n",
      "6\n",
      "7\n",
      "8\n",
      "9\n",
      "-----------------------------------\n",
      "0\n",
      "1\n",
      "2\n",
      "3\n",
      "4\n",
      "5\n",
      "6\n",
      "7\n",
      "8\n",
      "9\n"
     ]
    }
   ],
   "source": [
    "for i in range(0,10):\n",
    "    print(i)\n",
    "print(\"-----------------------------------\")\n",
    "    \n",
    "for i in range(0,10):\n",
    "    print(i)\n",
    "print(\"-----------------------------------\")\n",
    "\n",
    "for i in range(0, 10, 1):\n",
    "    print(i)\n"
   ]
  },
  {
   "cell_type": "markdown",
   "id": "5e917647-f6d7-45d9-95e1-21cbeff5d184",
   "metadata": {},
   "source": [
    "#### Amswer : There is no difference in the range(10), range(0,10) and range(0,10,1). range by default takes 0 as starting point and 1 as by default increment."
   ]
  },
  {
   "cell_type": "markdown",
   "id": "404e3b75-bbc2-4291-b411-6fcfb7f8a840",
   "metadata": {},
   "source": [
    "### -------------------------------------------------------------------------------------------------------------------------------"
   ]
  },
  {
   "cell_type": "markdown",
   "id": "cb0be3cc-3d0a-4c78-a7b9-f5621e26d2dd",
   "metadata": {},
   "source": [
    "### 12. Write a short program that prints the numbers1 to 10 using a for loop. Then write an equivalent program that prints the numbers 1 to 10 using a while loop."
   ]
  },
  {
   "cell_type": "code",
   "execution_count": 136,
   "id": "62c19f56-e60d-47de-a707-4d0bc163b38e",
   "metadata": {},
   "outputs": [
    {
     "name": "stdout",
     "output_type": "stream",
     "text": [
      "1\n",
      "2\n",
      "3\n",
      "4\n",
      "5\n",
      "6\n",
      "7\n",
      "8\n",
      "9\n",
      "10\n"
     ]
    }
   ],
   "source": [
    "# Using for loop\n",
    "for i in range(1,11):\n",
    "    print(i)"
   ]
  },
  {
   "cell_type": "code",
   "execution_count": 138,
   "id": "80d8bf63-0491-4fba-aec9-c4a0202b04a5",
   "metadata": {},
   "outputs": [
    {
     "name": "stdout",
     "output_type": "stream",
     "text": [
      "1\n",
      "2\n",
      "3\n",
      "4\n",
      "5\n",
      "6\n",
      "7\n",
      "8\n",
      "9\n",
      "10\n"
     ]
    }
   ],
   "source": [
    "# Using while loop\n",
    "i = 1\n",
    "while i <=10:\n",
    "    print(i)\n",
    "    i+=1"
   ]
  },
  {
   "cell_type": "markdown",
   "id": "d7a3e7f3-0862-4dfa-8d58-beaa9f3f4d63",
   "metadata": {},
   "source": [
    "### -------------------------------------------------------------------------------------------------------------------------------"
   ]
  },
  {
   "cell_type": "markdown",
   "id": "e7a967af-539f-41f3-9320-9a92aa5a1471",
   "metadata": {},
   "source": [
    "### 13. If you had a function named bacon() inside a module named spam, how would you call it after importing spam?\n",
    "\n",
    "    import spam\n",
    "    a = spam.bacon()"
   ]
  },
  {
   "cell_type": "markdown",
   "id": "c2108a47-5b61-476d-8fb6-95f668f0d6f1",
   "metadata": {},
   "source": [
    "### -------------------------------------------------------------------------------------------------------------------------------"
   ]
  }
 ],
 "metadata": {
  "kernelspec": {
   "display_name": "Python 3 (ipykernel)",
   "language": "python",
   "name": "python3"
  },
  "language_info": {
   "codemirror_mode": {
    "name": "ipython",
    "version": 3
   },
   "file_extension": ".py",
   "mimetype": "text/x-python",
   "name": "python",
   "nbconvert_exporter": "python",
   "pygments_lexer": "ipython3",
   "version": "3.12.4"
  }
 },
 "nbformat": 4,
 "nbformat_minor": 5
}

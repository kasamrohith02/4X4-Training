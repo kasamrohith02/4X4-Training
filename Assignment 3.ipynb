{
 "cells": [
  {
   "cell_type": "markdown",
   "id": "d63b106d-8375-4aa3-b9ad-544552deebd7",
   "metadata": {},
   "source": [
    "### DAY 1 Assignment 3"
   ]
  },
  {
   "cell_type": "markdown",
   "id": "e004f59a-6506-4029-b9c7-c5c1914d6a50",
   "metadata": {},
   "source": [
    "### -------------------------------------------------------------------------------------------------------------------------------"
   ]
  },
  {
   "cell_type": "markdown",
   "id": "b200b2ea-2baa-4099-8683-1dda3d5c1d9a",
   "metadata": {},
   "source": [
    "### 1. Why are functions advantageous to have in your programs?"
   ]
  },
  {
   "cell_type": "markdown",
   "id": "1efa30b6-9f01-4a01-b11a-9ed70b3374f4",
   "metadata": {},
   "source": [
    "### Answer: The advantages of using functions are:\n",
    "       - Avoid repetition of codes.\n",
    "       - Increases program readability and modularity\n",
    "       - Divide a complex problem into simpler ones.\n",
    "       - Reduces chances of error.\n",
    "       - Modifying a program becomes easier by using function."
   ]
  },
  {
   "cell_type": "markdown",
   "id": "0e33d4ad-8e40-4c3a-b5d3-1b4fb0caef80",
   "metadata": {},
   "source": [
    "### -------------------------------------------------------------------------------------------------------------------------------"
   ]
  },
  {
   "cell_type": "markdown",
   "id": "00a3cfde-51c6-43d9-8660-a0332759e7f8",
   "metadata": {},
   "source": [
    "### 2. When does the code in a function execute: when the function is defined or when the function is called?\n",
    "Answer : The code in a function executes when the function is called, not when the function is defined.\n"
   ]
  },
  {
   "cell_type": "markdown",
   "id": "36584396-0b64-4958-9139-1cfabc94e3a2",
   "metadata": {},
   "source": [
    "### -------------------------------------------------------------------------------------------------------------------------------"
   ]
  },
  {
   "cell_type": "markdown",
   "id": "9575fe40-8109-491f-b1ee-792ce7025b25",
   "metadata": {},
   "source": [
    "### 3. What statement creates a function?\n",
    "    The def functionName() craetees a function"
   ]
  },
  {
   "cell_type": "markdown",
   "id": "24b7205b-4eab-4c62-a8fe-e6b53c99a141",
   "metadata": {},
   "source": [
    "### -------------------------------------------------------------------------------------------------------------------------------"
   ]
  },
  {
   "cell_type": "markdown",
   "id": "9502a5ff-8132-4beb-961c-8d03de4b7299",
   "metadata": {},
   "source": [
    "### 4. What is the difference between a function and a function call?\n",
    "    A function : is a block of code that does a particular operation and returns a result. It usually accepts inputs as \n",
    "    parameters and returns a result. The parameters are not mandatory. \n",
    "    A Function call : is the code used to pass control to a function\n"
   ]
  },
  {
   "cell_type": "markdown",
   "id": "a7790920-d7b7-41e9-9a10-4ec0e444cff3",
   "metadata": {},
   "source": [
    "### -------------------------------------------------------------------------------------------------------------------------------"
   ]
  },
  {
   "cell_type": "markdown",
   "id": "e0dbe19f-6cd3-4fbf-b3c7-72b441f15392",
   "metadata": {},
   "source": [
    "### 5. How many global scopes are there in a Python program? How many local scopes?\n",
    "    There is one global scope, and a local scope is created whenever a function is called\n"
   ]
  },
  {
   "cell_type": "markdown",
   "id": "0d3979d8-4db6-4818-9c21-740b8218a681",
   "metadata": {},
   "source": [
    "### -------------------------------------------------------------------------------------------------------------------------------"
   ]
  },
  {
   "cell_type": "markdown",
   "id": "abfc692f-3ca9-435d-9feb-b1e79c5926a8",
   "metadata": {},
   "source": [
    "### 6. What happens to variables in a local scope when the function call returns?\n",
    "    When a function returns, the local scope is destroyed, and all the variables in it are forgotten. we will not be able to access the out side the function\n"
   ]
  },
  {
   "cell_type": "markdown",
   "id": "207adaf5-b150-485b-979c-014313862458",
   "metadata": {},
   "source": [
    "### -------------------------------------------------------------------------------------------------------------------------------"
   ]
  },
  {
   "cell_type": "markdown",
   "id": "6fd8a3fd-7f24-49f7-9330-035110cdacf8",
   "metadata": {},
   "source": [
    "### 7. What is the concept of a return value? Is it possible to have a return value in an expression?\n",
    "    A return value is the value that a function call evaluates to. A return value can be used as part of an expression, Like any value\n"
   ]
  },
  {
   "cell_type": "markdown",
   "id": "4284acde-1246-4e45-a880-ee07c3375c1e",
   "metadata": {},
   "source": [
    "### -------------------------------------------------------------------------------------------------------------------------------"
   ]
  },
  {
   "cell_type": "markdown",
   "id": "1d8c8275-480e-41c9-a03f-23bbf96bda64",
   "metadata": {},
   "source": [
    "### 8. If a function does not have a return statement, what is the return value of a call to that function?\n",
    "    If there is no return statement for a function, its return value is None\n"
   ]
  },
  {
   "cell_type": "markdown",
   "id": "ca4d0928-d090-42c5-8cef-0d78cc3d2b1d",
   "metadata": {},
   "source": [
    "### -------------------------------------------------------------------------------------------------------------------------------"
   ]
  },
  {
   "cell_type": "markdown",
   "id": "a0c219a4-ef3f-4c1f-87a2-2166f04a740f",
   "metadata": {},
   "source": [
    "### 9. How do you make a function variable refer to the global variable?\n",
    "    By representing a valible by global keywaord in the body of a function Example : global a\n"
   ]
  },
  {
   "cell_type": "markdown",
   "id": "baab0c9b-17e5-4675-b2d4-7045de5e8c6c",
   "metadata": {},
   "source": [
    "### -------------------------------------------------------------------------------------------------------------------------------"
   ]
  },
  {
   "cell_type": "markdown",
   "id": "221be1c2-13ac-4b14-921d-e813c79772bb",
   "metadata": {},
   "source": [
    "### 10. What is the data type of None?\n",
    "    The data type of none is NoneType\n"
   ]
  },
  {
   "cell_type": "markdown",
   "id": "8b308b5c-a99f-4f71-a10e-d1b357c30d82",
   "metadata": {},
   "source": [
    "### -------------------------------------------------------------------------------------------------------------------------------"
   ]
  },
  {
   "cell_type": "markdown",
   "id": "c850a02a-0886-4fee-b1ca-86be1611c75e",
   "metadata": {},
   "source": [
    "### 11. What does the sentence import areallyourpetsnamederic do?\n",
    "    areallyourpetsnamederic ia not a python module. Importing this module will throughs ModuleNotFoundError exception\n"
   ]
  },
  {
   "cell_type": "markdown",
   "id": "7d0a4734-f3d2-4b1d-bc52-da46cc2751fa",
   "metadata": {},
   "source": [
    "### -------------------------------------------------------------------------------------------------------------------------------"
   ]
  },
  {
   "cell_type": "markdown",
   "id": "3fe42d3b-1164-476d-8107-a4cb9af44e05",
   "metadata": {},
   "source": [
    "### 12. If you had a bacon() feature in a spam module, what would you call it after importing spam?\n",
    "    This function can be called with spam.bacon(). like below\n",
    "        import spam\n",
    "        spam.bacon()\n"
   ]
  },
  {
   "cell_type": "markdown",
   "id": "6a68532e-50fd-4b92-8142-9d63f4e77c22",
   "metadata": {},
   "source": [
    "### -------------------------------------------------------------------------------------------------------------------------------"
   ]
  },
  {
   "cell_type": "markdown",
   "id": "3dff15c6-b365-407b-91cf-da4b476ad84d",
   "metadata": {},
   "source": [
    "### 13. What can you do to save a programme from crashing if it encounters an error?\n",
    "    we can write lines of code in try block. This will not crash the programme. And in except block we can catch the \n",
    "    exception\n"
   ]
  },
  {
   "cell_type": "markdown",
   "id": "bb6fc55d-3d49-46fe-ae5c-7ed44543a6ff",
   "metadata": {},
   "source": [
    "### -------------------------------------------------------------------------------------------------------------------------------"
   ]
  },
  {
   "cell_type": "markdown",
   "id": "ee5f0d56-3dd3-4e49-8291-436956eb2f5f",
   "metadata": {},
   "source": [
    "### 14. What is the purpose of the try clause? What is the purpose of the except clause?\n",
    "    Try : The code that could potentially cause an error goes in the try clause.\n",
    "    except : The code that executes if an error happens goes in the except clause, like print statments about exceptions,\n",
    "    loggin statements."
   ]
  },
  {
   "cell_type": "markdown",
   "id": "8ef63327-ca17-4d15-97a6-349678a36bc5",
   "metadata": {},
   "source": [
    "### -------------------------------------------------------------------------------------------------------------------------------"
   ]
  }
 ],
 "metadata": {
  "kernelspec": {
   "display_name": "Python 3 (ipykernel)",
   "language": "python",
   "name": "python3"
  },
  "language_info": {
   "codemirror_mode": {
    "name": "ipython",
    "version": 3
   },
   "file_extension": ".py",
   "mimetype": "text/x-python",
   "name": "python",
   "nbconvert_exporter": "python",
   "pygments_lexer": "ipython3",
   "version": "3.12.4"
  }
 },
 "nbformat": 4,
 "nbformat_minor": 5
}

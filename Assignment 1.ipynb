{
 "cells": [
  {
   "cell_type": "markdown",
   "id": "2d25d0ff-9598-4b42-bb41-5661a347cf9b",
   "metadata": {},
   "source": [
    "## Assignment1"
   ]
  },
  {
   "cell_type": "markdown",
   "id": "3b00fc27-b6d4-40a2-af9f-d26a4e765ab9",
   "metadata": {},
   "source": [
    "### -------------------------------------------------------------------------------------------------------------------------------"
   ]
  },
  {
   "cell_type": "markdown",
   "id": "ff27a3df-2968-461c-b053-d2f4979db288",
   "metadata": {},
   "source": [
    "### 1. In the below elements which of them are values or an expression? eg:- values can be integer or string and expressions will be mathematical operators.\n",
    "- * \n",
    "- 'hello'\n",
    "- -87.8\n",
    "- - \n",
    "- / \n",
    "- +\n",
    "- 6 \n"
   ]
  },
  {
   "cell_type": "markdown",
   "id": "a115063f-09c4-4d89-940c-e85ec2a51e70",
   "metadata": {},
   "source": [
    "### Answer : \n",
    "operators:\n",
    "#### *,-,/,+\n",
    "values:\n",
    "#### 'hello', -87.8, 6\n",
    "   "
   ]
  },
  {
   "cell_type": "markdown",
   "id": "826db88a-6bed-4648-bd03-007f31df5303",
   "metadata": {},
   "source": [
    "### -------------------------------------------------------------------------------------------------------------------------------"
   ]
  },
  {
   "cell_type": "markdown",
   "id": "8a1c825a-247f-440f-8077-c57957deff44",
   "metadata": {},
   "source": [
    "### Task 2. What is the difference between string and variable?"
   ]
  },
  {
   "cell_type": "markdown",
   "id": "c5aebab3-96af-404f-a67f-e61f1da7ac08",
   "metadata": {},
   "source": [
    "#### Answer : \n",
    "    - Variables are symbols that you can use to store data in a program. You can think of them as an empty box that you fill with some data or value. Strings are data, so we can use them to fill up a variable.\n",
    "        Example a = 10 here a is the variabe that has the value of 10 which is integer data tyoe\n",
    "        \n",
    "    - String represents a text value enclosed with in two double quotes or two single quotes. \n",
    "        Example \"akash\", \"akash0101048\""
   ]
  },
  {
   "cell_type": "markdown",
   "id": "27a3860d-029b-489f-a3f5-76e3ae98c33d",
   "metadata": {},
   "source": [
    "### -------------------------------------------------------------------------------------------------------------------------------"
   ]
  },
  {
   "cell_type": "markdown",
   "id": "cb057715-602d-4ea5-9782-d7b392cf5368",
   "metadata": {},
   "source": [
    "### 3. Describe three different data types."
   ]
  },
  {
   "cell_type": "markdown",
   "id": "283c0a51-5231-4286-b99b-d5bb2a5be0fa",
   "metadata": {},
   "source": [
    "#### Answer: Three data types in python \n",
    "    - int - A positive or negative whole number without a decimal point. example  a = 10\n",
    "    - floating point numbers - A positive or negative whole number with a decimal point. b = 10.01\n",
    "    - string - any text with in two single or double quotes. c = 'akashkalasagond'\n"
   ]
  },
  {
   "cell_type": "markdown",
   "id": "de5e3074-ebb8-4b7b-991c-cc16fed54843",
   "metadata": {},
   "source": [
    "### -------------------------------------------------------------------------------------------------------------------------------"
   ]
  },
  {
   "cell_type": "markdown",
   "id": "e1ad9442-9de7-464f-b94f-409ed30bf466",
   "metadata": {},
   "source": [
    "### 4. What is an expression made up of? What do all expressions do?"
   ]
  },
  {
   "cell_type": "markdown",
   "id": "8bc100a3-d9f1-4d41-a1e7-7a1b2f203223",
   "metadata": {},
   "source": [
    "#### Answer:\n",
    "    - An Expression is a combination of variables and operators. There expressions perform operation of variable based on \n",
    "    the operators and evaluates the values to a single variable.\n"
   ]
  },
  {
   "cell_type": "markdown",
   "id": "919f8899-ec84-438e-bbe4-fccb5a9bb7dc",
   "metadata": {},
   "source": [
    "### -------------------------------------------------------------------------------------------------------------------------------"
   ]
  },
  {
   "cell_type": "markdown",
   "id": "115520e5-e4f9-4f78-a6d0-1abf372fb02b",
   "metadata": {},
   "source": [
    "### 5. This assignment statements, like spam = 10. What is the difference between an expression and a statement?"
   ]
  },
  {
   "cell_type": "markdown",
   "id": "6950af5c-acbc-41cd-a35e-3bc5be24b5f5",
   "metadata": {},
   "source": [
    "#### Answer:\n",
    "    - The assignemnt statemets assign a value to the variable.\n",
    "    - The expressions evalutaes the value to a variable.\n",
    "    - in spam = 10 , value 10 in assigned to spam, and now spam will have value 10.\n",
    "    - But in expression a = b+c, the value of a depends on the value of b and c."
   ]
  },
  {
   "cell_type": "markdown",
   "id": "1d64702c-f231-4bb1-944a-1b052310c2dd",
   "metadata": {},
   "source": [
    "### -------------------------------------------------------------------------------------------------------------------------------"
   ]
  },
  {
   "cell_type": "markdown",
   "id": "a7902278-4d5b-4ec9-a645-4e8b61e3523d",
   "metadata": {},
   "source": [
    "### 6. After running the following code, what does the variable bacon contain?\n",
    " - bacon = 22\n",
    " - bacon + 1\n"
   ]
  },
  {
   "cell_type": "markdown",
   "id": "b3bb02a3-1b62-4cc5-8883-0cdd8066a5b3",
   "metadata": {},
   "source": [
    "#### Answer:\n",
    "- bacon value will ne 22 itself.\n",
    "\n",
    "- The bacon is assinged with 22, but becon + 1 is not reassigned to bacon again like, bacon= bacon + 1. So the value of bacon is not changed"
   ]
  },
  {
   "cell_type": "markdown",
   "id": "afa1c4b0-d399-4bad-bb22-9c187ec606b2",
   "metadata": {},
   "source": [
    "### -------------------------------------------------------------------------------------------------------------------------------"
   ]
  },
  {
   "cell_type": "markdown",
   "id": "b6488e88-ac4c-4470-b0b5-e6e7bccae7a8",
   "metadata": {},
   "source": [
    "### 7. What should the values of the following two terms be?\n",
    " - 'spam' + 'spamspam'\n",
    " - 'spam' * 3\n",
    "\n"
   ]
  },
  {
   "cell_type": "markdown",
   "id": "aed5b1b7-12ba-4894-aa14-a323c0578f2c",
   "metadata": {},
   "source": [
    "#### Answer: 1 output :  'spamspamspam' 2 output :  'spamspamspam'`"
   ]
  },
  {
   "cell_type": "markdown",
   "id": "0b364dd3-16d9-4312-b65e-0c585e5202d8",
   "metadata": {},
   "source": [
    "### -------------------------------------------------------------------------------------------------------------------------------"
   ]
  },
  {
   "cell_type": "markdown",
   "id": "6a9915af-25d7-4c70-8847-42fe2e357ff0",
   "metadata": {},
   "source": [
    "### 8. Why is eggs a valid variable name while 100 is invalid?"
   ]
  },
  {
   "cell_type": "markdown",
   "id": "430cb232-5420-4a27-9589-605fbb2cf2d2",
   "metadata": {},
   "source": [
    "#### Answer:\n",
    "\n",
    "    - Variable name can not starts with numbers."
   ]
  },
  {
   "cell_type": "markdown",
   "id": "f4129e8e-0b80-469b-adf4-d0643afcb0b3",
   "metadata": {},
   "source": [
    "### -------------------------------------------------------------------------------------------------------------------------------"
   ]
  },
  {
   "cell_type": "markdown",
   "id": "8f1b7059-136d-423a-af74-f3f14f9cc3aa",
   "metadata": {},
   "source": [
    "### 9. What three functions can be used to get the integer, floating-point number, or string version of a value?"
   ]
  },
  {
   "cell_type": "markdown",
   "id": "001a5cf2-ed1a-4fc3-97a6-dd8d856721ff",
   "metadata": {},
   "source": [
    "#### Answer: The functions are  \n",
    "    - int() : integer\n",
    "    - float(): float number \n",
    "    - str() : will convert the values to integer, float or string versions of the values passed to them"
   ]
  },
  {
   "cell_type": "markdown",
   "id": "511e7e1d-ab68-4132-bdc9-ea9e372ca54d",
   "metadata": {},
   "source": [
    "### -------------------------------------------------------------------------------------------------------------------------------"
   ]
  },
  {
   "cell_type": "markdown",
   "id": "107062ca-4e99-45f2-b00f-428a062a5ff5",
   "metadata": {},
   "source": [
    "### 10. Why does this expression cause an error? How can you fix it? 'I have eaten ' + 99 + ' burritos.'\n"
   ]
  },
  {
   "cell_type": "markdown",
   "id": "61c2aa8f-8c82-48d2-bd94-f6f3f273ebfe",
   "metadata": {},
   "source": [
    "#### Answer:\n",
    "    - This error raised as since string concatination with interger values can not be performed.\n",
    "    This can be fixed by converting 99 into string by str(99)"
   ]
  },
  {
   "cell_type": "markdown",
   "id": "53a807fa-e810-4ac7-ac8c-4623b950d35c",
   "metadata": {},
   "source": [
    "### -------------------------------------------------------------------------------------------------------------------------------"
   ]
  }
 ],
 "metadata": {
  "kernelspec": {
   "display_name": "Python 3 (ipykernel)",
   "language": "python",
   "name": "python3"
  },
  "language_info": {
   "codemirror_mode": {
    "name": "ipython",
    "version": 3
   },
   "file_extension": ".py",
   "mimetype": "text/x-python",
   "name": "python",
   "nbconvert_exporter": "python",
   "pygments_lexer": "ipython3",
   "version": "3.12.4"
  }
 },
 "nbformat": 4,
 "nbformat_minor": 5
}
